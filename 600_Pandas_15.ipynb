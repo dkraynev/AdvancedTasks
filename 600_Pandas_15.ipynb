{
  "nbformat": 4,
  "nbformat_minor": 0,
  "metadata": {
    "colab": {
      "provenance": [],
      "authorship_tag": "ABX9TyMBwG9SFHfgjIJ6irxH2Q1w",
      "include_colab_link": true
    },
    "kernelspec": {
      "name": "python3",
      "display_name": "Python 3"
    },
    "language_info": {
      "name": "python"
    }
  },
  "cells": [
    {
      "cell_type": "markdown",
      "metadata": {
        "id": "view-in-github",
        "colab_type": "text"
      },
      "source": [
        "<a href=\"https://colab.research.google.com/github/dkraynev/AdvancedTasks/blob/main/600_Pandas_15.ipynb\" target=\"_parent\"><img src=\"https://colab.research.google.com/assets/colab-badge.svg\" alt=\"Open In Colab\"/></a>"
      ]
    },
    {
      "cell_type": "code",
      "source": [
        "import pandas as pd\n",
        "\n",
        "def createDataframe(student_data: List[List[int]]) -> pd.DataFrame:\n",
        "    return pd.DataFrame(student_data, columns=['student_id', 'age'])"
      ],
      "metadata": {
        "id": "Vtq3SPGlJyV1"
      },
      "execution_count": null,
      "outputs": []
    },
    {
      "cell_type": "code",
      "source": [
        "import pandas as pd\n",
        "\n",
        "def getDataframeSize(players: pd.DataFrame) -> List[int]:\n",
        "    return [players.shape[0], players.shape[1]]"
      ],
      "metadata": {
        "id": "f_FHH8fdM7-p"
      },
      "execution_count": null,
      "outputs": []
    },
    {
      "cell_type": "code",
      "source": [
        "import pandas as pd\n",
        "\n",
        "def selectFirstRows(employees: pd.DataFrame) -> pd.DataFrame:\n",
        "    return employees.head(3)"
      ],
      "metadata": {
        "id": "Q20rAIRmNFgh"
      },
      "execution_count": null,
      "outputs": []
    },
    {
      "cell_type": "code",
      "source": [
        "import pandas as pd\n",
        "\n",
        "def selectData(students: pd.DataFrame) -> pd.DataFrame:\n",
        "    return students[students['student_id'] ==  101][['name', 'age']]"
      ],
      "metadata": {
        "id": "hdqYSBKQNW-L"
      },
      "execution_count": null,
      "outputs": []
    },
    {
      "cell_type": "code",
      "source": [
        "import pandas as pd\n",
        "\n",
        "def createBonusColumn(employees: pd.DataFrame) -> pd.DataFrame:\n",
        "    employees[['bonus']] = employees[['salary']] * 2\n",
        "    return employees"
      ],
      "metadata": {
        "id": "MuVuslDEQSTS"
      },
      "execution_count": null,
      "outputs": []
    },
    {
      "cell_type": "code",
      "source": [
        "import pandas as pd\n",
        "\n",
        "def dropDuplicateEmails(customers: pd.DataFrame) -> pd.DataFrame:\n",
        "    return customers.drop_duplicates(subset='email')"
      ],
      "metadata": {
        "id": "6dcSwwiIQlR3"
      },
      "execution_count": null,
      "outputs": []
    },
    {
      "cell_type": "code",
      "source": [
        "import pandas as pd\n",
        "\n",
        "def dropMissingData(students: pd.DataFrame) -> pd.DataFrame:\n",
        "    return students.dropna(subset='name')"
      ],
      "metadata": {
        "id": "iSbZJHBBQzUy"
      },
      "execution_count": null,
      "outputs": []
    },
    {
      "cell_type": "code",
      "source": [
        "import pandas as pd\n",
        "\n",
        "def renameColumns(students: pd.DataFrame) -> pd.DataFrame:\n",
        "    return students.rename(columns={\n",
        "        'id': 'student_id',\n",
        "        'first': 'first_name',\n",
        "        'last': 'last_name',\n",
        "        'age': 'age_in_years'\n",
        "    })"
      ],
      "metadata": {
        "id": "y5TNYH70Rm05"
      },
      "execution_count": null,
      "outputs": []
    },
    {
      "cell_type": "code",
      "source": [
        "import pandas as pd\n",
        "\n",
        "def modifySalaryColumn(employees: pd.DataFrame) -> pd.DataFrame:\n",
        "    employees[['salary']] = employees[['salary']] * 2\n",
        "    return employees"
      ],
      "metadata": {
        "id": "oF14QIUPRtiC"
      },
      "execution_count": null,
      "outputs": []
    }
  ]
}