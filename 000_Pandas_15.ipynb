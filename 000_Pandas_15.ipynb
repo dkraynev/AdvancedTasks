{
  "nbformat": 4,
  "nbformat_minor": 0,
  "metadata": {
    "colab": {
      "provenance": [],
      "authorship_tag": "ABX9TyOqaEPPSN1eK9sdS8bzHztx",
      "include_colab_link": true
    },
    "kernelspec": {
      "name": "python3",
      "display_name": "Python 3"
    },
    "language_info": {
      "name": "python"
    }
  },
  "cells": [
    {
      "cell_type": "markdown",
      "metadata": {
        "id": "view-in-github",
        "colab_type": "text"
      },
      "source": [
        "<a href=\"https://colab.research.google.com/github/dkraynev/AdvancedTasks/blob/main/000_Pandas_15.ipynb\" target=\"_parent\"><img src=\"https://colab.research.google.com/assets/colab-badge.svg\" alt=\"Open In Colab\"/></a>"
      ]
    },
    {
      "cell_type": "code",
      "source": [
        "import pandas as pd\n",
        "\n",
        "def selectFirstRows(employees: pd.DataFrame) -> pd.DataFrame:\n",
        "    return employees[:3]"
      ],
      "metadata": {
        "id": "w3EWsrASDJ7p"
      },
      "execution_count": null,
      "outputs": []
    },
    {
      "cell_type": "code",
      "source": [
        "import pandas as pd\n",
        "\n",
        "def selectData(students: pd.DataFrame) -> pd.DataFrame:\n",
        "    return students.query('student_id == 101')[['name', 'age']]"
      ],
      "metadata": {
        "id": "QKJqlazNDQaB"
      },
      "execution_count": null,
      "outputs": []
    },
    {
      "cell_type": "code",
      "source": [
        "import pandas as pd\n",
        "\n",
        "def createBonusColumn(employees: pd.DataFrame) -> pd.DataFrame:\n",
        "    employees[['bonus']] = employees[['salary']] * 2\n",
        "    return employees"
      ],
      "metadata": {
        "id": "dehQyb-9DVbO"
      },
      "execution_count": null,
      "outputs": []
    },
    {
      "cell_type": "code",
      "source": [
        "import pandas as pd\n",
        "\n",
        "def dropDuplicateEmails(customers: pd.DataFrame) -> pd.DataFrame:\n",
        "    return customers.drop_duplicates(subset='email')"
      ],
      "metadata": {
        "id": "4isaNYifDaTo"
      },
      "execution_count": null,
      "outputs": []
    },
    {
      "cell_type": "code",
      "source": [
        "import pandas as pd\n",
        "\n",
        "def dropMissingData(students: pd.DataFrame) -> pd.DataFrame:\n",
        "    return students.dropna(subset='name')"
      ],
      "metadata": {
        "id": "O4whjgiCDkIS"
      },
      "execution_count": null,
      "outputs": []
    },
    {
      "cell_type": "code",
      "source": [
        "import pandas as pd\n",
        "\n",
        "def modifySalaryColumn(employees: pd.DataFrame) -> pd.DataFrame:\n",
        "    employees[['salary']] = employees[['salary']] * 2\n",
        "    return employees"
      ],
      "metadata": {
        "id": "oI32Z5q9DuhJ"
      },
      "execution_count": null,
      "outputs": []
    },
    {
      "cell_type": "code",
      "source": [
        "import pandas as pd\n",
        "\n",
        "def createDataframe(student_data: List[List[int]]) -> pd.DataFrame:\n",
        "    return pd.DataFrame(student_data, columns=['student_id', 'age'])"
      ],
      "metadata": {
        "id": "gKn5aFXU9HsF"
      },
      "execution_count": null,
      "outputs": []
    },
    {
      "cell_type": "code",
      "source": [
        "import pandas as pd\n",
        "\n",
        "def getDataframeSize(players: pd.DataFrame) -> List[int]:\n",
        "    rows, columns = players.shape\n",
        "    return [rows, columns]"
      ],
      "metadata": {
        "id": "Lg7QEqW896Dr"
      },
      "execution_count": null,
      "outputs": []
    },
    {
      "cell_type": "code",
      "source": [
        "import pandas as pd\n",
        "\n",
        "def selectFirstRows(employees: pd.DataFrame) -> pd.DataFrame:\n",
        "    return employees.head(3)"
      ],
      "metadata": {
        "id": "w9rQ52P--L6n"
      },
      "execution_count": null,
      "outputs": []
    },
    {
      "cell_type": "code",
      "source": [
        "import pandas as pd\n",
        "\n",
        "def selectData(students: pd.DataFrame) -> pd.DataFrame:\n",
        "    return students.query('student_id ==  101')[['name', 'age']]"
      ],
      "metadata": {
        "id": "t4-CxLtu-4wB"
      },
      "execution_count": null,
      "outputs": []
    },
    {
      "cell_type": "code",
      "source": [
        "import pandas as pd\n",
        "\n",
        "def dropDuplicateEmails(customers: pd.DataFrame) -> pd.DataFrame:\n",
        "    return customers.drop_duplicates(subset='email')"
      ],
      "metadata": {
        "id": "Ke57LIqH_ZnF"
      },
      "execution_count": null,
      "outputs": []
    },
    {
      "cell_type": "code",
      "source": [
        "import pandas as pd\n",
        "\n",
        "def dropMissingData(students: pd.DataFrame) -> pd.DataFrame:\n",
        "    return students.dropna(subset='name')"
      ],
      "metadata": {
        "id": "fMfqualR_eHH"
      },
      "execution_count": null,
      "outputs": []
    },
    {
      "cell_type": "code",
      "source": [
        "import pandas as pd\n",
        "\n",
        "def modifySalaryColumn(employees: pd.DataFrame) -> pd.DataFrame:\n",
        "    employees[['salary']] = employees[['salary']] * 2\n",
        "    return employees"
      ],
      "metadata": {
        "id": "3smGUVURASDX"
      },
      "execution_count": null,
      "outputs": []
    },
    {
      "cell_type": "code",
      "source": [
        "import pandas as pd\n",
        "\n",
        "def renameColumns(students: pd.DataFrame) -> pd.DataFrame:\n",
        "    return students.rename(columns={\n",
        "        'id': 'student_id',\n",
        "        'first': 'first_name',\n",
        "        'last': 'last_name',\n",
        "        'age': 'age_in_years'\n",
        "    })"
      ],
      "metadata": {
        "id": "eBPzg7X_Aug6"
      },
      "execution_count": null,
      "outputs": []
    },
    {
      "cell_type": "code",
      "source": [
        "import pandas as pd\n",
        "\n",
        "def changeDatatype(students: pd.DataFrame) -> pd.DataFrame:\n",
        "    students[['grade']] =  students[['grade']].astype('int')\n",
        "    return students"
      ],
      "metadata": {
        "id": "0XlUuLtaBAFM"
      },
      "execution_count": null,
      "outputs": []
    },
    {
      "cell_type": "code",
      "source": [
        "import pandas as pd\n",
        "\n",
        "def fillMissingValues(products: pd.DataFrame) -> pd.DataFrame:\n",
        "    products[['quantity']] = products[['quantity']].fillna(0)\n",
        "    return products"
      ],
      "metadata": {
        "id": "6RuC4rwJBk5l"
      },
      "execution_count": null,
      "outputs": []
    },
    {
      "cell_type": "code",
      "source": [
        "import pandas as pd\n",
        "\n",
        "def createDataframe(student_data: List[List[int]]) -> pd.DataFrame:\n",
        "    return pd.DataFrame(student_data, columns=['student_id', 'age'])"
      ],
      "metadata": {
        "id": "745Ay7BJrIEU"
      },
      "execution_count": null,
      "outputs": []
    },
    {
      "cell_type": "code",
      "source": [
        "import pandas as pd\n",
        "\n",
        "def getDataframeSize(players: pd.DataFrame) -> List[int]:\n",
        "    return [players.shape[0], players.shape[1]]"
      ],
      "metadata": {
        "id": "VTYIQODFreZM"
      },
      "execution_count": null,
      "outputs": []
    },
    {
      "cell_type": "code",
      "source": [
        "import pandas as pd\n",
        "\n",
        "def selectFirstRows(employees: pd.DataFrame) -> pd.DataFrame:\n",
        "    return employees[0:3]"
      ],
      "metadata": {
        "id": "x7L7fXuVrrYb"
      },
      "execution_count": null,
      "outputs": []
    },
    {
      "cell_type": "code",
      "source": [
        "import pandas as pd\n",
        "\n",
        "def selectData(students: pd.DataFrame) -> pd.DataFrame:\n",
        "    return students[students['student_id'] == 101][['name', 'age']]"
      ],
      "metadata": {
        "id": "VWyrqSzisTLt"
      },
      "execution_count": null,
      "outputs": []
    },
    {
      "cell_type": "code",
      "source": [
        "import pandas as pd\n",
        "\n",
        "def createBonusColumn(employees: pd.DataFrame) -> pd.DataFrame:\n",
        "    employees[['bonus']] = employees[['salary']] * 2\n",
        "    return employees"
      ],
      "metadata": {
        "id": "syph84AhsmBI"
      },
      "execution_count": null,
      "outputs": []
    },
    {
      "cell_type": "code",
      "source": [
        "import pandas as pd\n",
        "\n",
        "def dropDuplicateEmails(customers: pd.DataFrame) -> pd.DataFrame:\n",
        "    return customers.drop_duplicates(subset='email')"
      ],
      "metadata": {
        "id": "q6Cl0wVGs0QU"
      },
      "execution_count": null,
      "outputs": []
    },
    {
      "cell_type": "code",
      "source": [
        "import pandas as pd\n",
        "\n",
        "def dropMissingData(students: pd.DataFrame) -> pd.DataFrame:\n",
        "    return students.dropna(subset='name')"
      ],
      "metadata": {
        "id": "Ycn-7ydqtA2g"
      },
      "execution_count": null,
      "outputs": []
    },
    {
      "cell_type": "code",
      "source": [
        "import pandas as pd\n",
        "\n",
        "def dropMissingData(students: pd.DataFrame) -> pd.DataFrame:\n",
        "    return students.dropna(subset='name')"
      ],
      "metadata": {
        "id": "1sh8bYgctRy4"
      },
      "execution_count": null,
      "outputs": []
    },
    {
      "cell_type": "code",
      "source": [
        "import pandas as pd\n",
        "\n",
        "def renameColumns(students: pd.DataFrame) -> pd.DataFrame:\n",
        "    students.columns = ['student_id', 'first_name', 'last_name', 'age_in_years']\n",
        "    return students"
      ],
      "metadata": {
        "id": "CMs8bQ96FaKb"
      },
      "execution_count": null,
      "outputs": []
    },
    {
      "cell_type": "code",
      "source": [
        "import pandas as pd\n",
        "\n",
        "def changeDatatype(students: pd.DataFrame) -> pd.DataFrame:\n",
        "    return students.astype({'grade':'int'})"
      ],
      "metadata": {
        "id": "cdGMWRC9GiK4"
      },
      "execution_count": null,
      "outputs": []
    }
  ]
}