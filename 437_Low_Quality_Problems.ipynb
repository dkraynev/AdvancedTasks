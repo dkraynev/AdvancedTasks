{
  "nbformat": 4,
  "nbformat_minor": 0,
  "metadata": {
    "colab": {
      "provenance": [],
      "authorship_tag": "ABX9TyPzVo8SKmH8SiH+qZCe7y0C",
      "include_colab_link": true
    },
    "kernelspec": {
      "name": "python3",
      "display_name": "Python 3"
    },
    "language_info": {
      "name": "python"
    }
  },
  "cells": [
    {
      "cell_type": "markdown",
      "metadata": {
        "id": "view-in-github",
        "colab_type": "text"
      },
      "source": [
        "<a href=\"https://colab.research.google.com/github/dkraynev/AdvancedTasks/blob/main/437_Low_Quality_Problems.ipynb\" target=\"_parent\"><img src=\"https://colab.research.google.com/assets/colab-badge.svg\" alt=\"Open In Colab\"/></a>"
      ]
    },
    {
      "cell_type": "code",
      "source": [
        "import pandas as pd\n",
        "\n",
        "def low_quality_problems(problems: pd.DataFrame) -> pd.DataFrame:\n",
        "    return problems[problems['likes'] / (problems['likes'] + problems['dislikes']) < 0.6].sort_values(by='problem_id', ascending=True)[['problem_id']]"
      ],
      "metadata": {
        "id": "40nzfi1ZiNsv"
      },
      "execution_count": null,
      "outputs": []
    }
  ]
}